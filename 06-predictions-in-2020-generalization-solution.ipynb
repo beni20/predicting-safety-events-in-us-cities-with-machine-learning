{
 "cells": [
  {
   "cell_type": "markdown",
   "metadata": {},
   "source": [
    "# Milestone 6 solution:  Predictions in 2020 and generalization to other cities\n",
    " \n",
    "## Objective\n",
    " \n",
    "- In 2020 society was strongly impacted by city wide lockdown due to COVID19 pandemic. We\n",
    "  need to ensure that the model still makes sensible predictions.\n",
    "  In addition, now that we have a model for safety events in San-Francisco, we would like to \n",
    "  generalize it to a few other US cities (New-York, Chicago)\n",
    "  \n",
    " \n",
    "## Requirements\n",
    " \n",
    "Install the Python package that we have created in our previous milestone, which contains some of the useful functions,"
   ]
  },
  {
   "cell_type": "code",
   "execution_count": 1,
   "metadata": {},
   "outputs": [
    {
     "name": "stdout",
     "output_type": "stream",
     "text": [
      "Collecting https://public-sym.s3-eu-west-1.amazonaws.com/LP-safety-US-cities/safety-events-cities-0.3.tar.gz\n",
      "  Using cached https://public-sym.s3-eu-west-1.amazonaws.com/LP-safety-US-cities/safety-events-cities-0.3.tar.gz (2.2 kB)\n",
      "  Installing build dependencies ... \u001b[?25ldone\n",
      "\u001b[?25h  Getting requirements to build wheel ... \u001b[?25ldone\n",
      "\u001b[?25h    Preparing wheel metadata ... \u001b[?25ldone\n",
      "\u001b[?25hBuilding wheels for collected packages: safety-events-cities\n",
      "  Building wheel for safety-events-cities (PEP 517) ... \u001b[?25ldone\n",
      "\u001b[?25h  Created wheel for safety-events-cities: filename=safety_events_cities-0.3-py3-none-any.whl size=2620 sha256=ebcb785166880f510fe213c66e1ff13837f9046d76548973deab9deaad33cdd5\n",
      "  Stored in directory: /home/rth/.cache/pip/wheels/94/9c/d3/faf40b894b21bd985b7dc734f27dfcb9516f879ede1bb2684c\n",
      "Successfully built safety-events-cities\n",
      "Installing collected packages: safety-events-cities\n",
      "  Attempting uninstall: safety-events-cities\n",
      "    Found existing installation: safety-events-cities 0.3\n",
      "    Uninstalling safety-events-cities-0.3:\n",
      "      Successfully uninstalled safety-events-cities-0.3\n",
      "Successfully installed safety-events-cities-0.3\n"
     ]
    }
   ],
   "source": [
    "! pip install --upgrade https://public-sym.s3-eu-west-1.amazonaws.com/LP-safety-US-cities/safety-events-cities-0.3.tar.gz"
   ]
  },
  {
   "cell_type": "code",
   "execution_count": 2,
   "metadata": {},
   "outputs": [
    {
     "data": {
      "application/javascript": [
       "\n",
       "            setTimeout(function() {\n",
       "                var nbb_cell_id = 2;\n",
       "                var nbb_unformatted_code = \"# this plugin requires to run \\\"pip install nb-black\\\"\\n%load_ext nb_black\\n\\n# Reload modules automatically when importing code\\n%load_ext autoreload\\n%autoreload 2\";\n",
       "                var nbb_formatted_code = \"# this plugin requires to run \\\"pip install nb-black\\\"\\n%load_ext nb_black\\n\\n# Reload modules automatically when importing code\\n%load_ext autoreload\\n%autoreload 2\";\n",
       "                var nbb_cells = Jupyter.notebook.get_cells();\n",
       "                for (var i = 0; i < nbb_cells.length; ++i) {\n",
       "                    if (nbb_cells[i].input_prompt_number == nbb_cell_id) {\n",
       "                        if (nbb_cells[i].get_text() == nbb_unformatted_code) {\n",
       "                             nbb_cells[i].set_text(nbb_formatted_code);\n",
       "                        }\n",
       "                        break;\n",
       "                    }\n",
       "                }\n",
       "            }, 500);\n",
       "            "
      ],
      "text/plain": [
       "<IPython.core.display.Javascript object>"
      ]
     },
     "metadata": {},
     "output_type": "display_data"
    }
   ],
   "source": [
    "# this plugin requires to run \"pip install nb-black\"\n",
    "%load_ext nb_black\n",
    "\n",
    "# Reload modules automatically when importing code\n",
    "%load_ext autoreload\n",
    "%autoreload 2"
   ]
  },
  {
   "cell_type": "code",
   "execution_count": 3,
   "metadata": {},
   "outputs": [
    {
     "data": {
      "application/javascript": [
       "\n",
       "            setTimeout(function() {\n",
       "                var nbb_cell_id = 3;\n",
       "                var nbb_unformatted_code = \"import numpy as np\\nimport pandas as pd\\n\\nimport matplotlib.pyplot as plt\";\n",
       "                var nbb_formatted_code = \"import numpy as np\\nimport pandas as pd\\n\\nimport matplotlib.pyplot as plt\";\n",
       "                var nbb_cells = Jupyter.notebook.get_cells();\n",
       "                for (var i = 0; i < nbb_cells.length; ++i) {\n",
       "                    if (nbb_cells[i].input_prompt_number == nbb_cell_id) {\n",
       "                        if (nbb_cells[i].get_text() == nbb_unformatted_code) {\n",
       "                             nbb_cells[i].set_text(nbb_formatted_code);\n",
       "                        }\n",
       "                        break;\n",
       "                    }\n",
       "                }\n",
       "            }, 500);\n",
       "            "
      ],
      "text/plain": [
       "<IPython.core.display.Javascript object>"
      ]
     },
     "metadata": {},
     "output_type": "display_data"
    }
   ],
   "source": [
    "import numpy as np\n",
    "import pandas as pd\n",
    "\n",
    "import matplotlib.pyplot as plt"
   ]
  },
  {
   "cell_type": "markdown",
   "metadata": {},
   "source": [
    "We start by listing most frequent categories, for future reference,"
   ]
  },
  {
   "cell_type": "code",
   "execution_count": 4,
   "metadata": {},
   "outputs": [
    {
     "data": {
      "text/plain": [
       "Street and Sidewalk Cleaning    965968\n",
       "Potentially Life-Threatening    676296\n",
       "Non Life-threatening            349634\n",
       "Alarm                           326893\n",
       "Graffiti                        296927\n",
       "Encampments                     239275\n",
       "Parking Enforcement             153902\n",
       "Abandoned Vehicle               124820\n",
       "Name: category, dtype: int64"
      ]
     },
     "execution_count": 4,
     "metadata": {},
     "output_type": "execute_result"
    },
    {
     "data": {
      "application/javascript": [
       "\n",
       "            setTimeout(function() {\n",
       "                var nbb_cell_id = 4;\n",
       "                var nbb_unformatted_code = \"df0 = pd.read_parquet(\\\"../data/safety-SanFrancisco-2.parquet\\\")\\ndf0[\\\"category\\\"].value_counts().head(8)\";\n",
       "                var nbb_formatted_code = \"df0 = pd.read_parquet(\\\"../data/safety-SanFrancisco-2.parquet\\\")\\ndf0[\\\"category\\\"].value_counts().head(8)\";\n",
       "                var nbb_cells = Jupyter.notebook.get_cells();\n",
       "                for (var i = 0; i < nbb_cells.length; ++i) {\n",
       "                    if (nbb_cells[i].input_prompt_number == nbb_cell_id) {\n",
       "                        if (nbb_cells[i].get_text() == nbb_unformatted_code) {\n",
       "                             nbb_cells[i].set_text(nbb_formatted_code);\n",
       "                        }\n",
       "                        break;\n",
       "                    }\n",
       "                }\n",
       "            }, 500);\n",
       "            "
      ],
      "text/plain": [
       "<IPython.core.display.Javascript object>"
      ]
     },
     "metadata": {},
     "output_type": "display_data"
    }
   ],
   "source": [
    "df0 = pd.read_parquet(\"../data/safety-SanFrancisco-2.parquet\")\n",
    "df0[\"category\"].value_counts().head(8)"
   ]
  },
  {
   "cell_type": "markdown",
   "metadata": {},
   "source": [
    "## 3. Predictions in 2020\n",
    "\n",
    "### 1.1. Visualization\n",
    "\n",
    "Let's compare the safety event frequency between 2019 and 2020 to see if city wide lockdowns might have had an impact."
   ]
  },
  {
   "cell_type": "code",
   "execution_count": 5,
   "metadata": {},
   "outputs": [
    {
     "data": {
      "text/html": [
       "<div>\n",
       "<style scoped>\n",
       "    .dataframe tbody tr th:only-of-type {\n",
       "        vertical-align: middle;\n",
       "    }\n",
       "\n",
       "    .dataframe tbody tr th {\n",
       "        vertical-align: top;\n",
       "    }\n",
       "\n",
       "    .dataframe thead th {\n",
       "        text-align: right;\n",
       "    }\n",
       "</style>\n",
       "<table border=\"1\" class=\"dataframe\">\n",
       "  <thead>\n",
       "    <tr style=\"text-align: right;\">\n",
       "      <th></th>\n",
       "      <th>dateTime</th>\n",
       "      <th>neighborhood</th>\n",
       "      <th>count</th>\n",
       "    </tr>\n",
       "  </thead>\n",
       "  <tbody>\n",
       "    <tr>\n",
       "      <th>0</th>\n",
       "      <td>2018-01-01</td>\n",
       "      <td>Ingleside</td>\n",
       "      <td>32</td>\n",
       "    </tr>\n",
       "    <tr>\n",
       "      <th>1</th>\n",
       "      <td>2018-01-01</td>\n",
       "      <td>Mission</td>\n",
       "      <td>72</td>\n",
       "    </tr>\n",
       "    <tr>\n",
       "      <th>2</th>\n",
       "      <td>2018-01-01</td>\n",
       "      <td>Nob Hill</td>\n",
       "      <td>46</td>\n",
       "    </tr>\n",
       "    <tr>\n",
       "      <th>3</th>\n",
       "      <td>2018-01-01</td>\n",
       "      <td>SoMa</td>\n",
       "      <td>47</td>\n",
       "    </tr>\n",
       "    <tr>\n",
       "      <th>4</th>\n",
       "      <td>2018-01-01</td>\n",
       "      <td>Tenderloin</td>\n",
       "      <td>42</td>\n",
       "    </tr>\n",
       "  </tbody>\n",
       "</table>\n",
       "</div>"
      ],
      "text/plain": [
       "    dateTime neighborhood  count\n",
       "0 2018-01-01    Ingleside     32\n",
       "1 2018-01-01      Mission     72\n",
       "2 2018-01-01     Nob Hill     46\n",
       "3 2018-01-01         SoMa     47\n",
       "4 2018-01-01   Tenderloin     42"
      ]
     },
     "execution_count": 5,
     "metadata": {},
     "output_type": "execute_result"
    },
    {
     "data": {
      "application/javascript": [
       "\n",
       "            setTimeout(function() {\n",
       "                var nbb_cell_id = 5;\n",
       "                var nbb_unformatted_code = \"from safety_events_cities.milestone3 import load_data\\n\\ncategory = \\\"Street and Sidewalk Cleaning\\\"\\n\\ndf = load_data(\\n    \\\"../data/safety-SanFrancisco-2.parquet\\\",\\n    category=category,\\n    years=[2018, 2019, 2020],\\n)\\n\\ndf.head()\";\n",
       "                var nbb_formatted_code = \"from safety_events_cities.milestone3 import load_data\\n\\ncategory = \\\"Street and Sidewalk Cleaning\\\"\\n\\ndf = load_data(\\n    \\\"../data/safety-SanFrancisco-2.parquet\\\",\\n    category=category,\\n    years=[2018, 2019, 2020],\\n)\\n\\ndf.head()\";\n",
       "                var nbb_cells = Jupyter.notebook.get_cells();\n",
       "                for (var i = 0; i < nbb_cells.length; ++i) {\n",
       "                    if (nbb_cells[i].input_prompt_number == nbb_cell_id) {\n",
       "                        if (nbb_cells[i].get_text() == nbb_unformatted_code) {\n",
       "                             nbb_cells[i].set_text(nbb_formatted_code);\n",
       "                        }\n",
       "                        break;\n",
       "                    }\n",
       "                }\n",
       "            }, 500);\n",
       "            "
      ],
      "text/plain": [
       "<IPython.core.display.Javascript object>"
      ]
     },
     "metadata": {},
     "output_type": "display_data"
    }
   ],
   "source": [
    "from safety_events_cities.milestone3 import load_data\n",
    "\n",
    "category = \"Street and Sidewalk Cleaning\"\n",
    "\n",
    "df = load_data(\n",
    "    \"../data/safety-SanFrancisco-2.parquet\",\n",
    "    category=category,\n",
    "    years=[2018, 2019, 2020],\n",
    ")\n",
    "\n",
    "df.head()"
   ]
  },
  {
   "cell_type": "markdown",
   "metadata": {},
   "source": [
    "We aggregate safety events for each neighborhood by week to make visualization less noisy and more readable,"
   ]
  },
  {
   "cell_type": "code",
   "execution_count": 6,
   "metadata": {},
   "outputs": [
    {
     "data": {
      "text/plain": [
       "(17896.0, 18444.0)"
      ]
     },
     "execution_count": 6,
     "metadata": {},
     "output_type": "execute_result"
    },
    {
     "data": {
      "image/png": "[encoded data removed]",
      "text/plain": [
       "<Figure size 720x360 with 1 Axes>"
      ]
     },
     "metadata": {
      "needs_background": "light"
     },
     "output_type": "display_data"
    },
    {
     "data": {
      "application/javascript": [
       "\n",
       "            setTimeout(function() {\n",
       "                var nbb_cell_id = 6;\n",
       "                var nbb_unformatted_code = \"fig, ax = plt.subplots(figsize=(10, 5))\\n\\ndf.groupby([pd.Grouper(key=\\\"dateTime\\\", freq=\\\"7D\\\"), \\\"neighborhood\\\"])[\\n    \\\"count\\\"\\n].sum().unstack().plot(ax=ax)\\n\\nax.set_title(f\\\"Weekly safety event count for '{category}'\\\")\\nax.set_ylabel(\\\"Nymber of events\\\")\\nax.set_xlim(pd.Timestamp(\\\"2018-12-31\\\"), pd.Timestamp(\\\"2020-07-01\\\"))\";\n",
       "                var nbb_formatted_code = \"fig, ax = plt.subplots(figsize=(10, 5))\\n\\ndf.groupby([pd.Grouper(key=\\\"dateTime\\\", freq=\\\"7D\\\"), \\\"neighborhood\\\"])[\\n    \\\"count\\\"\\n].sum().unstack().plot(ax=ax)\\n\\nax.set_title(f\\\"Weekly safety event count for '{category}'\\\")\\nax.set_ylabel(\\\"Nymber of events\\\")\\nax.set_xlim(pd.Timestamp(\\\"2018-12-31\\\"), pd.Timestamp(\\\"2020-07-01\\\"))\";\n",
       "                var nbb_cells = Jupyter.notebook.get_cells();\n",
       "                for (var i = 0; i < nbb_cells.length; ++i) {\n",
       "                    if (nbb_cells[i].input_prompt_number == nbb_cell_id) {\n",
       "                        if (nbb_cells[i].get_text() == nbb_unformatted_code) {\n",
       "                             nbb_cells[i].set_text(nbb_formatted_code);\n",
       "                        }\n",
       "                        break;\n",
       "                    }\n",
       "                }\n",
       "            }, 500);\n",
       "            "
      ],
      "text/plain": [
       "<IPython.core.display.Javascript object>"
      ]
     },
     "metadata": {},
     "output_type": "display_data"
    }
   ],
   "source": [
    "fig, ax = plt.subplots(figsize=(10, 5))\n",
    "\n",
    "df.groupby([pd.Grouper(key=\"dateTime\", freq=\"7D\"), \"neighborhood\"])[\n",
    "    \"count\"\n",
    "].sum().unstack().plot(ax=ax)\n",
    "\n",
    "ax.set_title(f\"Weekly safety event count for '{category}'\")\n",
    "ax.set_ylabel(\"Nymber of events\")\n",
    "ax.set_xlim(pd.Timestamp(\"2018-12-31\"), pd.Timestamp(\"2020-07-01\"))"
   ]
  },
  {
   "cell_type": "markdown",
   "metadata": {},
   "source": [
    "If we compare the number of safety events beginning of 2020 for \"Street and Sidewalk Cleaning\", to the same months in 2019 we observe,\n",
    " - for the Mission Neighborhood a significant drop in the number of events mid March until mid April 2020. This could correspond to the dates of city lockdown. We see that in May activity returns to the previous values.\n",
    " - for the South of Market (SoMa) a 40% drop in the number of events, that remain at this level until July. This neighborhood contains in particular software companies and warehouses that may have not returned to the previous level of on-site activity even after the end of the lockdown.\n",
    " \n",
    "It should be noted that a decrease in the number of reported events could indicate either or both the decrease in the actual number of events or the decrease in the people reporting them.\n",
    "\n",
    "\n",
    "### 1.1. Model evaluation\n",
    "\n",
    "To evaluate how reliable our model would be for this time period, we make a train/test split such as to include the first half of 2020 in the test set. "
   ]
  },
  {
   "cell_type": "code",
   "execution_count": 7,
   "metadata": {},
   "outputs": [
    {
     "data": {
      "application/javascript": [
       "\n",
       "            setTimeout(function() {\n",
       "                var nbb_cell_id = 7;\n",
       "                var nbb_unformatted_code = \"from sklearn.model_selection import train_test_split\\n\\ndf_train, df_test = train_test_split(\\n    df.sort_values(\\\"dateTime\\\"), test_size=0.20, shuffle=False\\n)\";\n",
       "                var nbb_formatted_code = \"from sklearn.model_selection import train_test_split\\n\\ndf_train, df_test = train_test_split(\\n    df.sort_values(\\\"dateTime\\\"), test_size=0.20, shuffle=False\\n)\";\n",
       "                var nbb_cells = Jupyter.notebook.get_cells();\n",
       "                for (var i = 0; i < nbb_cells.length; ++i) {\n",
       "                    if (nbb_cells[i].input_prompt_number == nbb_cell_id) {\n",
       "                        if (nbb_cells[i].get_text() == nbb_unformatted_code) {\n",
       "                             nbb_cells[i].set_text(nbb_formatted_code);\n",
       "                        }\n",
       "                        break;\n",
       "                    }\n",
       "                }\n",
       "            }, 500);\n",
       "            "
      ],
      "text/plain": [
       "<IPython.core.display.Javascript object>"
      ]
     },
     "metadata": {},
     "output_type": "display_data"
    }
   ],
   "source": [
    "from sklearn.model_selection import train_test_split\n",
    "\n",
    "df_train, df_test = train_test_split(\n",
    "    df.sort_values(\"dateTime\"), test_size=0.20, shuffle=False\n",
    ")"
   ]
  },
  {
   "cell_type": "code",
   "execution_count": 8,
   "metadata": {
    "scrolled": true
   },
   "outputs": [
    {
     "name": "stdout",
     "output_type": "stream",
     "text": [
      "Train: 2018-01-01 00:00:00 - 2020-01-11 00:00:00\n",
      "Test: 2020-01-11 00:00:00 - 2020-07-14 00:00:00\n"
     ]
    },
    {
     "data": {
      "application/javascript": [
       "\n",
       "            setTimeout(function() {\n",
       "                var nbb_cell_id = 8;\n",
       "                var nbb_unformatted_code = \"print(\\\"Train:\\\", df_train[\\\"dateTime\\\"].min(), \\\"-\\\", df_train[\\\"dateTime\\\"].max())\\nprint(\\\"Test:\\\", df_test[\\\"dateTime\\\"].min(), \\\"-\\\", df_test[\\\"dateTime\\\"].max())\";\n",
       "                var nbb_formatted_code = \"print(\\\"Train:\\\", df_train[\\\"dateTime\\\"].min(), \\\"-\\\", df_train[\\\"dateTime\\\"].max())\\nprint(\\\"Test:\\\", df_test[\\\"dateTime\\\"].min(), \\\"-\\\", df_test[\\\"dateTime\\\"].max())\";\n",
       "                var nbb_cells = Jupyter.notebook.get_cells();\n",
       "                for (var i = 0; i < nbb_cells.length; ++i) {\n",
       "                    if (nbb_cells[i].input_prompt_number == nbb_cell_id) {\n",
       "                        if (nbb_cells[i].get_text() == nbb_unformatted_code) {\n",
       "                             nbb_cells[i].set_text(nbb_formatted_code);\n",
       "                        }\n",
       "                        break;\n",
       "                    }\n",
       "                }\n",
       "            }, 500);\n",
       "            "
      ],
      "text/plain": [
       "<IPython.core.display.Javascript object>"
      ]
     },
     "metadata": {},
     "output_type": "display_data"
    }
   ],
   "source": [
    "print(\"Train:\", df_train[\"dateTime\"].min(), \"-\", df_train[\"dateTime\"].max())\n",
    "print(\"Test:\", df_test[\"dateTime\"].min(), \"-\", df_test[\"dateTime\"].max())"
   ]
  },
  {
   "cell_type": "markdown",
   "metadata": {},
   "source": [
    "Here, we adapt the model from Milestone 3 and 4, for now without external features for simplicity."
   ]
  },
  {
   "cell_type": "code",
   "execution_count": 9,
   "metadata": {},
   "outputs": [
    {
     "data": {
      "text/plain": [
       "Pipeline(steps=[('functiontransformer',\n",
       "                 FunctionTransformer(func=<function encode_timestamp at 0x7f07380749e0>)),\n",
       "                ('columntransformer',\n",
       "                 ColumnTransformer(transformers=[('cat', OrdinalEncoder(),\n",
       "                                                  ['neighborhood']),\n",
       "                                                 ('passthrough', 'passthrough',\n",
       "                                                  ['month', 'day', 'dayofweek',\n",
       "                                                   'hour', 'dayofyear',\n",
       "                                                   'year'])])),\n",
       "                ('histgradientboostingregressor',\n",
       "                 HistGradientBoostingRegressor(learning_rate=0.05,\n",
       "                                               loss='poisson', max_depth=4))])"
      ]
     },
     "execution_count": 9,
     "metadata": {},
     "output_type": "execute_result"
    },
    {
     "data": {
      "application/javascript": [
       "\n",
       "            setTimeout(function() {\n",
       "                var nbb_cell_id = 9;\n",
       "                var nbb_unformatted_code = \"import sklearn\\nfrom sklearn.compose import ColumnTransformer\\nfrom sklearn.pipeline import make_pipeline\\nfrom sklearn.preprocessing import OrdinalEncoder, FunctionTransformer\\n\\nfrom sklearn.experimental import enable_hist_gradient_boosting  # noqa\\n\\nfrom sklearn.ensemble import HistGradientBoostingRegressor\\nfrom safety_events_cities.milestone3 import encode_timestamp\\n\\ncolumn_transformer_ord = ColumnTransformer(\\n    [\\n        (\\\"cat\\\", OrdinalEncoder(), [\\\"neighborhood\\\"],),\\n        (\\n            \\\"passthrough\\\",\\n            \\\"passthrough\\\",\\n            [\\\"month\\\", \\\"day\\\", \\\"dayofweek\\\", \\\"hour\\\", \\\"dayofyear\\\", \\\"year\\\",],\\n        ),\\n    ]\\n)\\n\\nest_gb = HistGradientBoostingRegressor(max_depth=4, loss=\\\"poisson\\\", learning_rate=0.05)\\n\\npipe_model = make_pipeline(\\n    FunctionTransformer(encode_timestamp), column_transformer_ord, est_gb\\n)\\npipe_model.fit(\\n    df_train, df_train[\\\"count\\\"],\\n)\";\n",
       "                var nbb_formatted_code = \"import sklearn\\nfrom sklearn.compose import ColumnTransformer\\nfrom sklearn.pipeline import make_pipeline\\nfrom sklearn.preprocessing import OrdinalEncoder, FunctionTransformer\\n\\nfrom sklearn.experimental import enable_hist_gradient_boosting  # noqa\\n\\nfrom sklearn.ensemble import HistGradientBoostingRegressor\\nfrom safety_events_cities.milestone3 import encode_timestamp\\n\\ncolumn_transformer_ord = ColumnTransformer(\\n    [\\n        (\\\"cat\\\", OrdinalEncoder(), [\\\"neighborhood\\\"],),\\n        (\\n            \\\"passthrough\\\",\\n            \\\"passthrough\\\",\\n            [\\\"month\\\", \\\"day\\\", \\\"dayofweek\\\", \\\"hour\\\", \\\"dayofyear\\\", \\\"year\\\",],\\n        ),\\n    ]\\n)\\n\\nest_gb = HistGradientBoostingRegressor(max_depth=4, loss=\\\"poisson\\\", learning_rate=0.05)\\n\\npipe_model = make_pipeline(\\n    FunctionTransformer(encode_timestamp), column_transformer_ord, est_gb\\n)\\npipe_model.fit(\\n    df_train, df_train[\\\"count\\\"],\\n)\";\n",
       "                var nbb_cells = Jupyter.notebook.get_cells();\n",
       "                for (var i = 0; i < nbb_cells.length; ++i) {\n",
       "                    if (nbb_cells[i].input_prompt_number == nbb_cell_id) {\n",
       "                        if (nbb_cells[i].get_text() == nbb_unformatted_code) {\n",
       "                             nbb_cells[i].set_text(nbb_formatted_code);\n",
       "                        }\n",
       "                        break;\n",
       "                    }\n",
       "                }\n",
       "            }, 500);\n",
       "            "
      ],
      "text/plain": [
       "<IPython.core.display.Javascript object>"
      ]
     },
     "metadata": {},
     "output_type": "display_data"
    }
   ],
   "source": [
    "import sklearn\n",
    "from sklearn.compose import ColumnTransformer\n",
    "from sklearn.pipeline import make_pipeline\n",
    "from sklearn.preprocessing import OrdinalEncoder, FunctionTransformer\n",
    "\n",
    "from sklearn.experimental import enable_hist_gradient_boosting  # noqa\n",
    "\n",
    "from sklearn.ensemble import HistGradientBoostingRegressor\n",
    "from safety_events_cities.milestone3 import encode_timestamp\n",
    "\n",
    "column_transformer_ord = ColumnTransformer(\n",
    "    [\n",
    "        (\"cat\", OrdinalEncoder(), [\"neighborhood\"],),\n",
    "        (\n",
    "            \"passthrough\",\n",
    "            \"passthrough\",\n",
    "            [\"month\", \"day\", \"dayofweek\", \"hour\", \"dayofyear\", \"year\",],\n",
    "        ),\n",
    "    ]\n",
    ")\n",
    "\n",
    "est_gb = HistGradientBoostingRegressor(max_depth=4, loss=\"poisson\", learning_rate=0.05)\n",
    "\n",
    "pipe_model = make_pipeline(\n",
    "    FunctionTransformer(encode_timestamp), column_transformer_ord, est_gb\n",
    ")\n",
    "pipe_model.fit(\n",
    "    df_train, df_train[\"count\"],\n",
    ")"
   ]
  },
  {
   "cell_type": "markdown",
   "metadata": {},
   "source": [
    "With a model trained on 2017-2019 data we then compute the RMSE score on the test set for each 15 days period between January and July 2020,"
   ]
  },
  {
   "cell_type": "code",
   "execution_count": 11,
   "metadata": {},
   "outputs": [
    {
     "name": "stdout",
     "output_type": "stream",
     "text": [
      "Weekly RMSE\n"
     ]
    },
    {
     "data": {
      "text/html": [
       "<div>\n",
       "<style scoped>\n",
       "    .dataframe tbody tr th:only-of-type {\n",
       "        vertical-align: middle;\n",
       "    }\n",
       "\n",
       "    .dataframe tbody tr th {\n",
       "        vertical-align: top;\n",
       "    }\n",
       "\n",
       "    .dataframe thead th {\n",
       "        text-align: right;\n",
       "    }\n",
       "</style>\n",
       "<table border=\"1\" class=\"dataframe\">\n",
       "  <thead>\n",
       "    <tr style=\"text-align: right;\">\n",
       "      <th>neighborhood</th>\n",
       "      <th>Ingleside</th>\n",
       "      <th>Mission</th>\n",
       "      <th>Nob Hill</th>\n",
       "      <th>SoMa</th>\n",
       "      <th>Tenderloin</th>\n",
       "    </tr>\n",
       "    <tr>\n",
       "      <th>dateTime</th>\n",
       "      <th></th>\n",
       "      <th></th>\n",
       "      <th></th>\n",
       "      <th></th>\n",
       "      <th></th>\n",
       "    </tr>\n",
       "  </thead>\n",
       "  <tbody>\n",
       "    <tr>\n",
       "      <th>2020-01-11</th>\n",
       "      <td>13.2</td>\n",
       "      <td>19.4</td>\n",
       "      <td>17.7</td>\n",
       "      <td>19.4</td>\n",
       "      <td>14.1</td>\n",
       "    </tr>\n",
       "    <tr>\n",
       "      <th>2020-01-26</th>\n",
       "      <td>12.1</td>\n",
       "      <td>23.2</td>\n",
       "      <td>13.2</td>\n",
       "      <td>16.5</td>\n",
       "      <td>8.1</td>\n",
       "    </tr>\n",
       "    <tr>\n",
       "      <th>2020-02-10</th>\n",
       "      <td>10.6</td>\n",
       "      <td>30.3</td>\n",
       "      <td>11.8</td>\n",
       "      <td>22.0</td>\n",
       "      <td>8.6</td>\n",
       "    </tr>\n",
       "    <tr>\n",
       "      <th>2020-02-25</th>\n",
       "      <td>9.4</td>\n",
       "      <td>24.7</td>\n",
       "      <td>13.6</td>\n",
       "      <td>17.0</td>\n",
       "      <td>9.7</td>\n",
       "    </tr>\n",
       "    <tr>\n",
       "      <th>2020-03-11</th>\n",
       "      <td>11.6</td>\n",
       "      <td>24.7</td>\n",
       "      <td>15.9</td>\n",
       "      <td>31.2</td>\n",
       "      <td>18.1</td>\n",
       "    </tr>\n",
       "    <tr>\n",
       "      <th>2020-03-26</th>\n",
       "      <td>13.9</td>\n",
       "      <td>32.6</td>\n",
       "      <td>21.5</td>\n",
       "      <td>41.8</td>\n",
       "      <td>16.2</td>\n",
       "    </tr>\n",
       "    <tr>\n",
       "      <th>2020-04-10</th>\n",
       "      <td>9.4</td>\n",
       "      <td>34.0</td>\n",
       "      <td>19.8</td>\n",
       "      <td>44.6</td>\n",
       "      <td>15.3</td>\n",
       "    </tr>\n",
       "    <tr>\n",
       "      <th>2020-04-25</th>\n",
       "      <td>14.1</td>\n",
       "      <td>23.8</td>\n",
       "      <td>14.8</td>\n",
       "      <td>48.5</td>\n",
       "      <td>16.5</td>\n",
       "    </tr>\n",
       "    <tr>\n",
       "      <th>2020-05-10</th>\n",
       "      <td>11.8</td>\n",
       "      <td>17.5</td>\n",
       "      <td>14.8</td>\n",
       "      <td>42.9</td>\n",
       "      <td>14.7</td>\n",
       "    </tr>\n",
       "    <tr>\n",
       "      <th>2020-05-25</th>\n",
       "      <td>14.3</td>\n",
       "      <td>25.4</td>\n",
       "      <td>13.0</td>\n",
       "      <td>45.8</td>\n",
       "      <td>16.0</td>\n",
       "    </tr>\n",
       "    <tr>\n",
       "      <th>2020-06-09</th>\n",
       "      <td>16.5</td>\n",
       "      <td>42.3</td>\n",
       "      <td>13.8</td>\n",
       "      <td>47.8</td>\n",
       "      <td>10.3</td>\n",
       "    </tr>\n",
       "    <tr>\n",
       "      <th>2020-06-24</th>\n",
       "      <td>18.2</td>\n",
       "      <td>25.7</td>\n",
       "      <td>19.5</td>\n",
       "      <td>38.5</td>\n",
       "      <td>13.6</td>\n",
       "    </tr>\n",
       "    <tr>\n",
       "      <th>2020-07-09</th>\n",
       "      <td>13.4</td>\n",
       "      <td>38.6</td>\n",
       "      <td>17.3</td>\n",
       "      <td>38.4</td>\n",
       "      <td>15.2</td>\n",
       "    </tr>\n",
       "  </tbody>\n",
       "</table>\n",
       "</div>"
      ],
      "text/plain": [
       "neighborhood  Ingleside  Mission  Nob Hill  SoMa  Tenderloin\n",
       "dateTime                                                    \n",
       "2020-01-11         13.2     19.4      17.7  19.4        14.1\n",
       "2020-01-26         12.1     23.2      13.2  16.5         8.1\n",
       "2020-02-10         10.6     30.3      11.8  22.0         8.6\n",
       "2020-02-25          9.4     24.7      13.6  17.0         9.7\n",
       "2020-03-11         11.6     24.7      15.9  31.2        18.1\n",
       "2020-03-26         13.9     32.6      21.5  41.8        16.2\n",
       "2020-04-10          9.4     34.0      19.8  44.6        15.3\n",
       "2020-04-25         14.1     23.8      14.8  48.5        16.5\n",
       "2020-05-10         11.8     17.5      14.8  42.9        14.7\n",
       "2020-05-25         14.3     25.4      13.0  45.8        16.0\n",
       "2020-06-09         16.5     42.3      13.8  47.8        10.3\n",
       "2020-06-24         18.2     25.7      19.5  38.5        13.6\n",
       "2020-07-09         13.4     38.6      17.3  38.4        15.2"
      ]
     },
     "metadata": {},
     "output_type": "display_data"
    },
    {
     "name": "stdout",
     "output_type": "stream",
     "text": [
      "Average RMSE\n"
     ]
    },
    {
     "data": {
      "text/plain": [
       "neighborhood\n",
       "Ingleside     12.961538\n",
       "Mission       27.861538\n",
       "Nob Hill      15.900000\n",
       "SoMa          34.953846\n",
       "Tenderloin    13.569231\n",
       "dtype: float64"
      ]
     },
     "execution_count": 11,
     "metadata": {},
     "output_type": "execute_result"
    },
    {
     "data": {
      "application/javascript": [
       "\n",
       "            setTimeout(function() {\n",
       "                var nbb_cell_id = 11;\n",
       "                var nbb_unformatted_code = \"from sklearn.metrics import mean_squared_error\\nfrom functools import partial\\n\\n\\ndef _evaluate_rmse_score(model, df_s):\\n    y_true = df_s[\\\"count\\\"]\\n    y_pred = model.predict(df_s)\\n    return mean_squared_error(y_true, y_pred, squared=False)\\n\\n\\nres = (\\n    df_test.groupby([pd.Grouper(key=\\\"dateTime\\\", freq=\\\"15d\\\"), \\\"neighborhood\\\"])\\n    .apply(partial(_evaluate_rmse_score, pipe_model))\\n    .unstack()\\n    .round(1)\\n)\\nprint(\\\"Weekly RMSE\\\")\\ndisplay(res)\\nprint(\\\"Average RMSE\\\")\\nres.mean(axis=0).T\";\n",
       "                var nbb_formatted_code = \"from sklearn.metrics import mean_squared_error\\nfrom functools import partial\\n\\n\\ndef _evaluate_rmse_score(model, df_s):\\n    y_true = df_s[\\\"count\\\"]\\n    y_pred = model.predict(df_s)\\n    return mean_squared_error(y_true, y_pred, squared=False)\\n\\n\\nres = (\\n    df_test.groupby([pd.Grouper(key=\\\"dateTime\\\", freq=\\\"15d\\\"), \\\"neighborhood\\\"])\\n    .apply(partial(_evaluate_rmse_score, pipe_model))\\n    .unstack()\\n    .round(1)\\n)\\nprint(\\\"Weekly RMSE\\\")\\ndisplay(res)\\nprint(\\\"Average RMSE\\\")\\nres.mean(axis=0).T\";\n",
       "                var nbb_cells = Jupyter.notebook.get_cells();\n",
       "                for (var i = 0; i < nbb_cells.length; ++i) {\n",
       "                    if (nbb_cells[i].input_prompt_number == nbb_cell_id) {\n",
       "                        if (nbb_cells[i].get_text() == nbb_unformatted_code) {\n",
       "                             nbb_cells[i].set_text(nbb_formatted_code);\n",
       "                        }\n",
       "                        break;\n",
       "                    }\n",
       "                }\n",
       "            }, 500);\n",
       "            "
      ],
      "text/plain": [
       "<IPython.core.display.Javascript object>"
      ]
     },
     "metadata": {},
     "output_type": "display_data"
    }
   ],
   "source": [
    "from sklearn.metrics import mean_squared_error\n",
    "from functools import partial\n",
    "\n",
    "\n",
    "def _evaluate_rmse_score(model, df_s):\n",
    "    y_true = df_s[\"count\"]\n",
    "    y_pred = model.predict(df_s)\n",
    "    return mean_squared_error(y_true, y_pred, squared=False)\n",
    "\n",
    "\n",
    "res = (\n",
    "    df_test.groupby([pd.Grouper(key=\"dateTime\", freq=\"15d\"), \"neighborhood\"])\n",
    "    .apply(partial(_evaluate_rmse_score, pipe_model))\n",
    "    .unstack()\n",
    "    .round(1)\n",
    ")\n",
    "print(\"Weekly RMSE\")\n",
    "display(res)\n",
    "print(\"Average RMSE\")\n",
    "res.mean(axis=0).T"
   ]
  },
  {
   "cell_type": "markdown",
   "metadata": {},
   "source": [
    "We notice that while for the majority of neighborhoods the RMSE error is comparable between different months, for SoMa neighborhood there was a 2x increase in RMSE after May 2020. This phenomena is known as a [concept drift](https://en.wikipedia.org/wiki/Concept_drift) which leads to worse model accuracy over time, and in the following section we will attempt to mitigate this issue."
   ]
  },
  {
   "cell_type": "markdown",
   "metadata": {},
   "source": [
    "### 1.2. Mitigating the concept drift\n",
    "\n",
    "Concept drift occurs when the statistical property of the target variable change over time in unknown ways. Two typical approaches to mitigate this issue consist in either,\n",
    " 1. monitoring model accuracy and re-training the model with new data when a significant degradation is observed\n",
    " 2. or simply periodically re-training the model on new data.\n",
    " \n",
    "We can model the second approach with a time-series cross-validation, where a sufficient number of folds are used to make the validation span a 15 days period. The test set is then all the historical data prior to the beginning of the validation set.\n",
    "\n",
    "The weekly RMSE with this approach is outlined in the below table,"
   ]
  },
  {
   "cell_type": "code",
   "execution_count": 12,
   "metadata": {},
   "outputs": [
    {
     "name": "stdout",
     "output_type": "stream",
     "text": [
      "Evaluating with test set:  2020-01-02 00:00:00 - 2020-01-16 00:00:00\n",
      "Evaluating with test set:  2020-01-17 00:00:00 - 2020-01-31 00:00:00\n",
      "Evaluating with test set:  2020-02-01 00:00:00 - 2020-02-15 00:00:00\n",
      "Evaluating with test set:  2020-02-16 00:00:00 - 2020-03-01 00:00:00\n",
      "Evaluating with test set:  2020-03-02 00:00:00 - 2020-03-16 00:00:00\n",
      "Evaluating with test set:  2020-03-17 00:00:00 - 2020-03-31 00:00:00\n",
      "Evaluating with test set:  2020-04-01 00:00:00 - 2020-04-15 00:00:00\n",
      "Evaluating with test set:  2020-04-16 00:00:00 - 2020-04-30 00:00:00\n",
      "Evaluating with test set:  2020-05-01 00:00:00 - 2020-05-15 00:00:00\n",
      "Evaluating with test set:  2020-05-16 00:00:00 - 2020-05-30 00:00:00\n",
      "Evaluating with test set:  2020-05-31 00:00:00 - 2020-06-14 00:00:00\n",
      "Evaluating with test set:  2020-06-15 00:00:00 - 2020-06-29 00:00:00\n",
      "Evaluating with test set:  2020-06-30 00:00:00 - 2020-07-14 00:00:00\n",
      "Weekly RMSE\n"
     ]
    },
    {
     "data": {
      "text/html": [
       "<div>\n",
       "<style scoped>\n",
       "    .dataframe tbody tr th:only-of-type {\n",
       "        vertical-align: middle;\n",
       "    }\n",
       "\n",
       "    .dataframe tbody tr th {\n",
       "        vertical-align: top;\n",
       "    }\n",
       "\n",
       "    .dataframe thead th {\n",
       "        text-align: right;\n",
       "    }\n",
       "</style>\n",
       "<table border=\"1\" class=\"dataframe\">\n",
       "  <thead>\n",
       "    <tr style=\"text-align: right;\">\n",
       "      <th>neighborhood</th>\n",
       "      <th>Ingleside</th>\n",
       "      <th>Mission</th>\n",
       "      <th>Nob Hill</th>\n",
       "      <th>SoMa</th>\n",
       "      <th>Tenderloin</th>\n",
       "    </tr>\n",
       "  </thead>\n",
       "  <tbody>\n",
       "    <tr>\n",
       "      <th>2020-01-09</th>\n",
       "      <td>14.00</td>\n",
       "      <td>57.92</td>\n",
       "      <td>26.82</td>\n",
       "      <td>33.40</td>\n",
       "      <td>19.07</td>\n",
       "    </tr>\n",
       "    <tr>\n",
       "      <th>2020-01-24</th>\n",
       "      <td>13.13</td>\n",
       "      <td>22.34</td>\n",
       "      <td>15.53</td>\n",
       "      <td>15.86</td>\n",
       "      <td>15.73</td>\n",
       "    </tr>\n",
       "    <tr>\n",
       "      <th>2020-02-08</th>\n",
       "      <td>10.56</td>\n",
       "      <td>17.18</td>\n",
       "      <td>13.49</td>\n",
       "      <td>23.31</td>\n",
       "      <td>8.63</td>\n",
       "    </tr>\n",
       "    <tr>\n",
       "      <th>2020-02-23</th>\n",
       "      <td>12.06</td>\n",
       "      <td>22.50</td>\n",
       "      <td>14.84</td>\n",
       "      <td>23.55</td>\n",
       "      <td>9.84</td>\n",
       "    </tr>\n",
       "    <tr>\n",
       "      <th>2020-03-09</th>\n",
       "      <td>10.33</td>\n",
       "      <td>32.99</td>\n",
       "      <td>13.58</td>\n",
       "      <td>23.84</td>\n",
       "      <td>12.22</td>\n",
       "    </tr>\n",
       "    <tr>\n",
       "      <th>2020-03-24</th>\n",
       "      <td>9.21</td>\n",
       "      <td>22.71</td>\n",
       "      <td>11.45</td>\n",
       "      <td>21.58</td>\n",
       "      <td>15.24</td>\n",
       "    </tr>\n",
       "    <tr>\n",
       "      <th>2020-04-08</th>\n",
       "      <td>12.90</td>\n",
       "      <td>22.71</td>\n",
       "      <td>16.94</td>\n",
       "      <td>32.83</td>\n",
       "      <td>13.65</td>\n",
       "    </tr>\n",
       "    <tr>\n",
       "      <th>2020-04-23</th>\n",
       "      <td>9.72</td>\n",
       "      <td>16.23</td>\n",
       "      <td>9.94</td>\n",
       "      <td>28.38</td>\n",
       "      <td>12.89</td>\n",
       "    </tr>\n",
       "    <tr>\n",
       "      <th>2020-05-08</th>\n",
       "      <td>16.17</td>\n",
       "      <td>20.07</td>\n",
       "      <td>12.86</td>\n",
       "      <td>29.78</td>\n",
       "      <td>12.94</td>\n",
       "    </tr>\n",
       "    <tr>\n",
       "      <th>2020-05-23</th>\n",
       "      <td>11.97</td>\n",
       "      <td>20.93</td>\n",
       "      <td>12.81</td>\n",
       "      <td>26.34</td>\n",
       "      <td>7.16</td>\n",
       "    </tr>\n",
       "    <tr>\n",
       "      <th>2020-06-07</th>\n",
       "      <td>11.94</td>\n",
       "      <td>31.06</td>\n",
       "      <td>8.08</td>\n",
       "      <td>28.48</td>\n",
       "      <td>12.89</td>\n",
       "    </tr>\n",
       "    <tr>\n",
       "      <th>2020-06-22</th>\n",
       "      <td>15.37</td>\n",
       "      <td>43.61</td>\n",
       "      <td>17.76</td>\n",
       "      <td>20.59</td>\n",
       "      <td>11.48</td>\n",
       "    </tr>\n",
       "    <tr>\n",
       "      <th>2020-07-07</th>\n",
       "      <td>15.12</td>\n",
       "      <td>24.89</td>\n",
       "      <td>15.43</td>\n",
       "      <td>15.34</td>\n",
       "      <td>8.52</td>\n",
       "    </tr>\n",
       "  </tbody>\n",
       "</table>\n",
       "</div>"
      ],
      "text/plain": [
       "neighborhood  Ingleside  Mission  Nob Hill   SoMa  Tenderloin\n",
       "2020-01-09        14.00    57.92     26.82  33.40       19.07\n",
       "2020-01-24        13.13    22.34     15.53  15.86       15.73\n",
       "2020-02-08        10.56    17.18     13.49  23.31        8.63\n",
       "2020-02-23        12.06    22.50     14.84  23.55        9.84\n",
       "2020-03-09        10.33    32.99     13.58  23.84       12.22\n",
       "2020-03-24         9.21    22.71     11.45  21.58       15.24\n",
       "2020-04-08        12.90    22.71     16.94  32.83       13.65\n",
       "2020-04-23         9.72    16.23      9.94  28.38       12.89\n",
       "2020-05-08        16.17    20.07     12.86  29.78       12.94\n",
       "2020-05-23        11.97    20.93     12.81  26.34        7.16\n",
       "2020-06-07        11.94    31.06      8.08  28.48       12.89\n",
       "2020-06-22        15.37    43.61     17.76  20.59       11.48\n",
       "2020-07-07        15.12    24.89     15.43  15.34        8.52"
      ]
     },
     "metadata": {},
     "output_type": "display_data"
    },
    {
     "name": "stdout",
     "output_type": "stream",
     "text": [
      "Average RMSE\n"
     ]
    },
    {
     "data": {
      "text/plain": [
       "neighborhood\n",
       "Ingleside     12.498462\n",
       "Mission       27.318462\n",
       "Nob Hill      14.579231\n",
       "SoMa          24.867692\n",
       "Tenderloin    12.327692\n",
       "dtype: float64"
      ]
     },
     "execution_count": 12,
     "metadata": {},
     "output_type": "execute_result"
    },
    {
     "data": {
      "application/javascript": [
       "\n",
       "            setTimeout(function() {\n",
       "                var nbb_cell_id = 12;\n",
       "                var nbb_unformatted_code = \"from sklearn.model_selection import cross_val_score, TimeSeriesSplit\\n\\ncv = TimeSeriesSplit(n_splits=60)\\n\\n\\ndef _cross_val_eval(model, cv, df):\\n    out = []\\n    index = []\\n\\n    for train_idx, test_idx in cv.split(df.sort_values(\\\"dateTime\\\")):\\n        df_train, df_test = df.iloc[train_idx], df.iloc[test_idx]\\n        if df_test[\\\"dateTime\\\"].min() < pd.Timestamp(\\\"2020-01-01\\\"):\\n            continue\\n\\n        pipe_model.fit(\\n            df_train, df_train[\\\"count\\\"],\\n        )\\n\\n        out.append(\\n            df_test.groupby(\\\"neighborhood\\\").apply(partial(_evaluate_rmse_score, model))\\n        )\\n        print(\\n            \\\"Evaluating with test set: \\\",\\n            df_test[\\\"dateTime\\\"].min(),\\n            \\\"-\\\",\\n            df_test[\\\"dateTime\\\"].max(),\\n        )\\n        index.append(df_test[\\\"dateTime\\\"].mean())\\n\\n    return pd.concat(out, axis=1, keys=index).T.round(2)\\n\\n\\nres = _cross_val_eval(pipe_model, cv, df)\\nprint(\\\"Weekly RMSE\\\")\\ndisplay(res)\\nprint(\\\"Average RMSE\\\")\\nres.mean(axis=0)\";\n",
       "                var nbb_formatted_code = \"from sklearn.model_selection import cross_val_score, TimeSeriesSplit\\n\\ncv = TimeSeriesSplit(n_splits=60)\\n\\n\\ndef _cross_val_eval(model, cv, df):\\n    out = []\\n    index = []\\n\\n    for train_idx, test_idx in cv.split(df.sort_values(\\\"dateTime\\\")):\\n        df_train, df_test = df.iloc[train_idx], df.iloc[test_idx]\\n        if df_test[\\\"dateTime\\\"].min() < pd.Timestamp(\\\"2020-01-01\\\"):\\n            continue\\n\\n        pipe_model.fit(\\n            df_train, df_train[\\\"count\\\"],\\n        )\\n\\n        out.append(\\n            df_test.groupby(\\\"neighborhood\\\").apply(partial(_evaluate_rmse_score, model))\\n        )\\n        print(\\n            \\\"Evaluating with test set: \\\",\\n            df_test[\\\"dateTime\\\"].min(),\\n            \\\"-\\\",\\n            df_test[\\\"dateTime\\\"].max(),\\n        )\\n        index.append(df_test[\\\"dateTime\\\"].mean())\\n\\n    return pd.concat(out, axis=1, keys=index).T.round(2)\\n\\n\\nres = _cross_val_eval(pipe_model, cv, df)\\nprint(\\\"Weekly RMSE\\\")\\ndisplay(res)\\nprint(\\\"Average RMSE\\\")\\nres.mean(axis=0)\";\n",
       "                var nbb_cells = Jupyter.notebook.get_cells();\n",
       "                for (var i = 0; i < nbb_cells.length; ++i) {\n",
       "                    if (nbb_cells[i].input_prompt_number == nbb_cell_id) {\n",
       "                        if (nbb_cells[i].get_text() == nbb_unformatted_code) {\n",
       "                             nbb_cells[i].set_text(nbb_formatted_code);\n",
       "                        }\n",
       "                        break;\n",
       "                    }\n",
       "                }\n",
       "            }, 500);\n",
       "            "
      ],
      "text/plain": [
       "<IPython.core.display.Javascript object>"
      ]
     },
     "metadata": {},
     "output_type": "display_data"
    }
   ],
   "source": [
    "from sklearn.model_selection import cross_val_score, TimeSeriesSplit\n",
    "\n",
    "cv = TimeSeriesSplit(n_splits=60)\n",
    "\n",
    "\n",
    "def _cross_val_eval(model, cv, df):\n",
    "    out = []\n",
    "    index = []\n",
    "\n",
    "    for train_idx, test_idx in cv.split(df.sort_values(\"dateTime\")):\n",
    "        df_train, df_test = df.iloc[train_idx], df.iloc[test_idx]\n",
    "        if df_test[\"dateTime\"].min() < pd.Timestamp(\"2020-01-01\"):\n",
    "            continue\n",
    "\n",
    "        pipe_model.fit(\n",
    "            df_train, df_train[\"count\"],\n",
    "        )\n",
    "\n",
    "        out.append(\n",
    "            df_test.groupby(\"neighborhood\").apply(partial(_evaluate_rmse_score, model))\n",
    "        )\n",
    "        print(\n",
    "            \"Evaluating with test set: \",\n",
    "            df_test[\"dateTime\"].min(),\n",
    "            \"-\",\n",
    "            df_test[\"dateTime\"].max(),\n",
    "        )\n",
    "        index.append(df_test[\"dateTime\"].mean())\n",
    "\n",
    "    return pd.concat(out, axis=1, keys=index).T.round(2)\n",
    "\n",
    "\n",
    "res = _cross_val_eval(pipe_model, cv, df)\n",
    "print(\"Weekly RMSE\")\n",
    "display(res)\n",
    "print(\"Average RMSE\")\n",
    "res.mean(axis=0)"
   ]
  },
  {
   "cell_type": "markdown",
   "metadata": {},
   "source": [
    "While overall the RMSE scores are comparable to those obtained previously, we notice a significant decrease of RSME error for SoMa as we are better able to account for the concept drift in the model.\n",
    "\n",
    "**Note:** we could also use `sample_weight` fit parameter to weight higher more recent observations during training, however the `HistGradientBoostingRegressor` model does not (yet) support `sample_weight` in scikit-learn 0.23.\n",
    "\n",
    "\n",
    "## 2. Generalizing the ML model to other US cities\n",
    "\n",
    "As we saw in Milestone 2 the layout of the available safety events data is very similar between San-Francisco, New York City and Chicago. Most of the processing steps should therefore apply irrespective of the city.\n",
    "\n",
    "One major difference is that the categories of events are not identical, and we would therefore need to train one ML model per city (and event category). We certainly won't be able to train a model for one city and apply it directly to a different city, due to the target variable being different and the neighborhood being used as an input variable.\n",
    "\n",
    "An outline of steps necessary to extend the obtained model for other cities is presented below. We won't have time to implement it in this milestone.\n",
    " 1. Re-run analysis from milestone 2 to ensure than intuitions and data understanding we obtained for San-Fransisco still applies to other cities.\n",
    " 2. Compute the neighborhood of each event using the GeoJSON files provided in the milestone 6 description. At this stage we should likely use proper geo-spatial software for this operation such as [geopandas](https://geopandas.org/)\n",
    " 3. Re-train and evaluate the model enhanced with external data from Milestone 4. This should likely not require any pipeline modification since both external weather data and holiday schedules is available for all 3 cities.\n",
    " 4. Finally, re-run hyper-parameter search and model validation and interpretation tools.\n",
    " \n",
    "The main requirement for implementing these steps is a well organized code base, to allow quickly switching the modeling between different cities. We would need to move most of the code into a separate Python package created in Milestone 3, document it and add unit tests to ensure code correctness. "
   ]
  },
  {
   "cell_type": "markdown",
   "metadata": {},
   "source": [
    "## 3. Project summary and next steps\n",
    "\n",
    "In this project we have started by analyzing San-Francisco safety events data, and designed a machine learning model to predict the number of events per neighborhood. We have investigated how to reduce the prediction error by enhancing the training set with external data, including weather observation and public holidays. We searched for optimal model hyper-parameters and explored some classical model interpretability tools.\n",
    "\n",
    "\n",
    "Following points could deserve further investigation, \n",
    " - Analyzing the relationship between the frequency of reported safety events and occurred events. It appears that some events may never be reported, while other (e.g. a fire) are reported multiple times. Although we have de-duplication step in the processing, this discrepancy can have a significant impact on modeling as it means that we only have data for a proxy of the target variable.\n",
    " - So far we have chosen to aggregate safety events with a 1 day granularity. Finer granularity (e.g. of a few hours) would likely be more useful for practical applications. However it would also likely include more noise and would be more difficult to visualize and evaluate due to its multi-scale nature ranging from hour or month time-scales.\n",
    " - We have mostly focused on machine learning models in this project, while it could also be useful to compare predictions with classical time series forecasting models.\n",
    " - Currently, we train one model per city and category on a relatively small resulting number of samples in the historical data. As the number of cities increases, it it would be interesting to consider whether we could standardize the category scheme and train a single model with training data from all cities simultaneously."
   ]
  }
 ],
 "metadata": {
  "kernelspec": {
   "display_name": "Python 3",
   "language": "python",
   "name": "python3"
  },
  "language_info": {
   "codemirror_mode": {
    "name": "ipython",
    "version": 3
   },
   "file_extension": ".py",
   "mimetype": "text/x-python",
   "name": "python",
   "nbconvert_exporter": "python",
   "pygments_lexer": "ipython3",
   "version": "3.7.8"
  }
 },
 "nbformat": 4,
 "nbformat_minor": 4
}
